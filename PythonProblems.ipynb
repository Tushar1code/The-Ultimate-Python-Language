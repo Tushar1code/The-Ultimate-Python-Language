{
 "cells": [
  {
   "cell_type": "code",
   "execution_count": 2,
   "metadata": {},
   "outputs": [
    {
     "name": "stdout",
     "output_type": "stream",
     "text": [
      "21\n"
     ]
    }
   ],
   "source": [
    "#Sum of List Elements\n",
    "#Write a Python function that calculates the sum of all elements in a given list of integers.\n",
    "def sum_lst(numbers):\n",
    "    return sum(numbers)\n",
    "print(sum_lst([1,2,3,4,5,6]))"
   ]
  },
  {
   "cell_type": "code",
   "execution_count": 3,
   "metadata": {},
   "outputs": [
    {
     "name": "stdout",
     "output_type": "stream",
     "text": [
      "423\n"
     ]
    }
   ],
   "source": [
    "#ind the Largest Element in a List\n",
    "#Write a Python function that finds and returns the largest element in a given list of integers.\n",
    "def find_largest(numbers):\n",
    "    return max(numbers)\n",
    "print(find_largest([1,2,3,423,4,5]))"
   ]
  },
  {
   "cell_type": "code",
   "execution_count": 7,
   "metadata": {},
   "outputs": [
    {
     "name": "stdout",
     "output_type": "stream",
     "text": [
      "[1, 2, 3, 4, 5, 7, 6, 8, 9]\n"
     ]
    }
   ],
   "source": [
    "#Remove Duplicates from a List\n",
    "#You are given a list of integers. Write a Python program that removes any duplicate elements from the list and returns a new list with only unique elements. The order of elements in the list should be maintained.\n",
    "def duplicate(lst):\n",
    "    unique_v = []\n",
    "    seen = set()\n",
    "    for num in lst:\n",
    "        if num not in seen:\n",
    "            unique_v.append(num)\n",
    "            seen.add(num)\n",
    "    return unique_v\n",
    "\n",
    "lst=[1,2,3,3,4,5,4,5,5,7,6,7,8,9]\n",
    "print(duplicate(lst))\n"
   ]
  },
  {
   "cell_type": "code",
   "execution_count": 9,
   "metadata": {},
   "outputs": [
    {
     "name": "stdout",
     "output_type": "stream",
     "text": [
      "False\n",
      "True\n"
     ]
    }
   ],
   "source": [
    "#Check if All Elements in a List are Unique\n",
    "\n",
    "#You are given a list of integers. Write a Python program that checks if all elements in the list are unique. If all elements are unique, return True; otherwise, return False.\n",
    "def check_unique(lst):\n",
    "    return len(lst) == len(set(lst))\n",
    "print(check_unique([1,2,3,3,4,5,6,7,8]))\n",
    "print(check_unique([1,2,3,4,5,6,7,8]))"
   ]
  },
  {
   "cell_type": "code",
   "execution_count": 15,
   "metadata": {},
   "outputs": [
    {
     "name": "stdout",
     "output_type": "stream",
     "text": [
      "[5, 4, 3, 2, 1]\n"
     ]
    }
   ],
   "source": [
    "#Reverse a List (Non-Slicing Approach)\n",
    "#You are given a list of integers. Write a Python program that reverses the list without using slicing (lst[::-1]). The program should return the reversed list.\n",
    "def reverse_list(lst):\n",
    "    left,right = 0, len(lst)-1\n",
    "    while left < right:\n",
    "        lst[left],lst[right] = lst[right] , lst[left]\n",
    "        left +=1\n",
    "        right -=1\n",
    "    return lst\n",
    "print(reverse_list([1,2,3,4,5]))"
   ]
  },
  {
   "cell_type": "code",
   "execution_count": 16,
   "metadata": {},
   "outputs": [
    {
     "name": "stdout",
     "output_type": "stream",
     "text": [
      "Even numbers: 4, Odd numbers: 6\n"
     ]
    }
   ],
   "source": [
    "#Number of Odd and Even Elements in a list\n",
    "#Count Even and Odd Numbers in a List using python\n",
    "def count_even_odd(numbers):\n",
    "    count_even = 0\n",
    "    count_odd = 0\n",
    "    for num in numbers:\n",
    "        if num % 2 == 0:\n",
    "            count_even += 1\n",
    "        else:\n",
    "            count_odd +=1\n",
    "    return count_even,count_odd\n",
    "numbers = [1,2,3,4,5,6,7,8,9,9]\n",
    "even , odd = count_even_odd(numbers)\n",
    "print(f\"Even numbers: {even}, Odd numbers: {odd}\")"
   ]
  }
 ],
 "metadata": {
  "kernelspec": {
   "display_name": "base",
   "language": "python",
   "name": "python3"
  },
  "language_info": {
   "codemirror_mode": {
    "name": "ipython",
    "version": 3
   },
   "file_extension": ".py",
   "mimetype": "text/x-python",
   "name": "python",
   "nbconvert_exporter": "python",
   "pygments_lexer": "ipython3",
   "version": "3.12.7"
  }
 },
 "nbformat": 4,
 "nbformat_minor": 2
}
